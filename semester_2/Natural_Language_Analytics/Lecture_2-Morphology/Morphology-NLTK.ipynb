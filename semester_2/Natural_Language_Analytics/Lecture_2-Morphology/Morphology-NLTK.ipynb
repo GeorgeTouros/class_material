{
 "cells": [
  {
   "cell_type": "markdown",
   "metadata": {},
   "source": [
    "## This notebook shows some examples on using NLTK for various tasks related to morphology"
   ]
  },
  {
   "cell_type": "code",
   "execution_count": 1,
   "metadata": {},
   "outputs": [],
   "source": [
    "import nltk\n",
    "# nltk.download()\n",
    "import nltk.data\n",
    "nltk.data.path.append(\"/home/petasis/.nltk_data/\")"
   ]
  },
  {
   "cell_type": "markdown",
   "metadata": {},
   "source": [
    "## Download a sample corpus\n",
    "\n",
    "We are going to retrieve a small corpus from the internet, like an RSS Feed."
   ]
  },
  {
   "cell_type": "code",
   "execution_count": 2,
   "metadata": {},
   "outputs": [
    {
     "data": {
      "text/plain": [
       "'Ροή Ειδήσεων'"
      ]
     },
     "execution_count": 2,
     "metadata": {},
     "output_type": "execute_result"
    }
   ],
   "source": [
    "import feedparser\n",
    "llog = feedparser.parse(\"http://avgi.gr/newsstream/-/asset_publisher/CATEGORY/rss?p_p_cacheability=cacheLevelFull\")\n",
    "llog['feed']['title']"
   ]
  },
  {
   "cell_type": "code",
   "execution_count": 3,
   "metadata": {},
   "outputs": [
    {
     "data": {
      "text/plain": [
       "20"
      ]
     },
     "execution_count": 3,
     "metadata": {},
     "output_type": "execute_result"
    }
   ],
   "source": [
    "# How many news items?\n",
    "len(llog.entries)"
   ]
  },
  {
   "cell_type": "code",
   "execution_count": 4,
   "metadata": {},
   "outputs": [
    {
     "name": "stdout",
     "output_type": "stream",
     "text": [
      "{'title': 'Ενθαρρυντικά σημάδια για την πορεία των εξαγωγών το 2018', 'title_detail': {'type': 'text/plain', 'language': None, 'base': 'http://avgi.gr/newsstream/-/asset_publisher/CATEGORY/rss?p_p_cacheability=cacheLevelFull', 'value': 'Ενθαρρυντικά σημάδια για την πορεία των εξαγωγών το 2018'}, 'links': [{'rel': 'alternate', 'href': 'http://avgi.gr/article/10951/8735986', 'type': 'text/html'}], 'link': 'http://avgi.gr/article/10951/8735986', 'authors': [{'name': ''}], 'author_detail': {'name': ''}, 'author': '', 'id': 'http://avgi.gr/article/10951/8735986', 'guidislink': False, 'updated': '2018-02-27T14:33:00Z', 'updated_parsed': time.struct_time(tm_year=2018, tm_mon=2, tm_mday=27, tm_hour=14, tm_min=33, tm_sec=0, tm_wday=1, tm_yday=58, tm_isdst=0), 'published': '2018-02-27T14:33:00Z', 'published_parsed': time.struct_time(tm_year=2018, tm_mon=2, tm_mday=27, tm_hour=14, tm_min=33, tm_sec=0, tm_wday=1, tm_yday=58, tm_isdst=0), 'summary': 'Οι εξαγωγές συμπεριλαμβανομένων των πετρελαιοειδών στο σύνολο του 2017, δηλαδή στο διάστημα Ιανουαρίου - Δεκεμβρίου 2017, αυξήθηκαν κατά 13,2% και ανήλθαν στα 28,46 δισ. ευρώ από 25,15 δισ. ευρώ', 'summary_detail': {'type': 'text/html', 'language': None, 'base': 'http://avgi.gr/newsstream/-/asset_publisher/CATEGORY/rss?p_p_cacheability=cacheLevelFull', 'value': 'Οι εξαγωγές συμπεριλαμβανομένων των πετρελαιοειδών στο σύνολο του 2017, δηλαδή στο διάστημα Ιανουαρίου - Δεκεμβρίου 2017, αυξήθηκαν κατά 13,2% και ανήλθαν στα 28,46 δισ. ευρώ από 25,15 δισ. ευρώ'}}\n",
      "Ενθαρρυντικά σημάδια για την πορεία των εξαγωγών το 2018\n",
      "Οι εξαγωγές συμπεριλαμβανομένων των πετρελαιοειδών στο σύνολο του 2017, δηλαδή στο διάστημα Ιανουαρίου - Δεκεμβρίου 2017, αυξήθηκαν κατά 13,2% και ανήλθαν στα 28,46 δισ. ευρώ από 25,15 δισ. ευρώ\n"
     ]
    }
   ],
   "source": [
    "# Select a news item:\n",
    "item = llog.entries[2]\n",
    "title = item.title\n",
    "summary = item.summary\n",
    "print(item)\n",
    "print(title)\n",
    "print(summary)"
   ]
  },
  {
   "cell_type": "code",
   "execution_count": null,
   "metadata": {
    "collapsed": true
   },
   "outputs": [],
   "source": []
  },
  {
   "cell_type": "markdown",
   "metadata": {},
   "source": [
    "## Tokenisation"
   ]
  },
  {
   "cell_type": "code",
   "execution_count": 5,
   "metadata": {},
   "outputs": [
    {
     "name": "stdout",
     "output_type": "stream",
     "text": [
      "Ενθαρρυντικά σημάδια για την πορεία των εξαγωγών το 2018. Οι εξαγωγές συμπεριλαμβανομένων των πετρελαιοειδών στο σύνολο του 2017, δηλαδή στο διάστημα Ιανουαρίου - Δεκεμβρίου 2017, αυξήθηκαν κατά 13,2% και ανήλθαν στα 28,46 δισ. ευρώ από 25,15 δισ. ευρώ.\n"
     ]
    }
   ],
   "source": [
    "text = title + \". \" + summary + \".\"\n",
    "print(text)"
   ]
  },
  {
   "cell_type": "code",
   "execution_count": 6,
   "metadata": {},
   "outputs": [
    {
     "name": "stdout",
     "output_type": "stream",
     "text": [
      "['Ενθαρρυντικά', 'σημάδια', 'για', 'την', 'πορεία', 'των', 'εξαγωγών', 'το', '2018', '.', 'Οι', 'εξαγωγές', 'συμπεριλαμβανομένων', 'των', 'πετρελαιοειδών', 'στο', 'σύνολο', 'του', '2017', ',', 'δηλαδή', 'στο', 'διάστημα', 'Ιανουαρίου', '-', 'Δεκεμβρίου', '2017', ',', 'αυξήθηκαν', 'κατά', '13,2', '%', 'και', 'ανήλθαν', 'στα', '28,46', 'δισ', '.', 'ευρώ', 'από', '25,15', 'δισ', '.', 'ευρώ', '.']\n",
      "['Ενθαρρυντικά', 'σημάδια', 'για', 'την', 'πορεία', 'των', 'εξαγωγών', 'το', '2018', '.', 'Οι', 'εξαγωγές', 'συμπεριλαμβανομένων', 'των', 'πετρελαιοειδών', 'στο', 'σύνολο', 'του', '2017', ',', 'δηλαδή', 'στο', 'διάστημα', 'Ιανουαρίου', '-', 'Δεκεμβρίου', '2017', ',', 'αυξήθηκαν', 'κατά', '13,2', '%', 'και', 'ανήλθαν', 'στα', '28,46', 'δισ.', 'ευρώ', 'από', '25,15', 'δισ.', 'ευρώ', '.']\n"
     ]
    }
   ],
   "source": [
    "from nltk.tokenize import word_tokenize\n",
    "tokens = nltk.word_tokenize(text, \"english\")\n",
    "print(tokens)\n",
    "tokens = nltk.word_tokenize(text, \"greek\")\n",
    "print(tokens)"
   ]
  },
  {
   "cell_type": "markdown",
   "metadata": {},
   "source": [
    "## Sentence spliting"
   ]
  },
  {
   "cell_type": "code",
   "execution_count": 7,
   "metadata": {},
   "outputs": [
    {
     "name": "stdout",
     "output_type": "stream",
     "text": [
      "['Ενθαρρυντικά σημάδια για την πορεία των εξαγωγών το 2018.', 'Οι εξαγωγές συμπεριλαμβανομένων των πετρελαιοειδών στο σύνολο του 2017, δηλαδή στο διάστημα Ιανουαρίου - Δεκεμβρίου 2017, αυξήθηκαν κατά 13,2% και ανήλθαν στα 28,46 δισ.', 'ευρώ από 25,15 δισ.', 'ευρώ.']\n",
      "['Ενθαρρυντικά σημάδια για την πορεία των εξαγωγών το 2018.', 'Οι εξαγωγές συμπεριλαμβανομένων των πετρελαιοειδών στο σύνολο του 2017, δηλαδή στο διάστημα Ιανουαρίου - Δεκεμβρίου 2017, αυξήθηκαν κατά 13,2% και ανήλθαν στα 28,46 δισ. ευρώ από 25,15 δισ. ευρώ.']\n"
     ]
    }
   ],
   "source": [
    "from nltk.tokenize import sent_tokenize\n",
    "sent_tokenize_list = sent_tokenize(text, \"english\")\n",
    "print(sent_tokenize_list)\n",
    "sent_tokenize_list = sent_tokenize(text, \"greek\")\n",
    "print(sent_tokenize_list)"
   ]
  },
  {
   "cell_type": "markdown",
   "metadata": {},
   "source": [
    "## POS tagging"
   ]
  },
  {
   "cell_type": "code",
   "execution_count": 8,
   "metadata": {},
   "outputs": [
    {
     "name": "stdout",
     "output_type": "stream",
     "text": [
      "['Ενθαρρυντικά', 'σημάδια', 'για', 'την', 'πορεία', 'των', 'εξαγωγών', 'το', '2018', '.', 'Οι', 'εξαγωγές', 'συμπεριλαμβανομένων', 'των', 'πετρελαιοειδών', 'στο', 'σύνολο', 'του', '2017', ',', 'δηλαδή', 'στο', 'διάστημα', 'Ιανουαρίου', '-', 'Δεκεμβρίου', '2017', ',', 'αυξήθηκαν', 'κατά', '13,2', '%', 'και', 'ανήλθαν', 'στα', '28,46', 'δισ.', 'ευρώ', 'από', '25,15', 'δισ.', 'ευρώ', '.']\n"
     ]
    }
   ],
   "source": [
    "tokens = nltk.word_tokenize(text, \"greek\")\n",
    "print(tokens)\n",
    "\n",
    "tags = nltk.pos_tag(text, \"english\")"
   ]
  },
  {
   "cell_type": "code",
   "execution_count": 9,
   "metadata": {},
   "outputs": [
    {
     "name": "stdout",
     "output_type": "stream",
     "text": [
      "[('Ε', 'UNK'), ('ν', 'UNK'), ('θ', 'UNK'), ('α', 'UNK'), ('ρ', 'UNK'), ('ρ', 'UNK'), ('υ', 'UNK'), ('ν', 'UNK'), ('τ', 'UNK'), ('ι', 'UNK'), ('κ', 'UNK'), ('ά', 'UNK'), (' ', 'UNK'), ('σ', 'UNK'), ('η', 'UNK'), ('μ', 'UNK'), ('ά', 'UNK'), ('δ', 'UNK'), ('ι', 'UNK'), ('α', 'UNK'), (' ', 'UNK'), ('γ', 'UNK'), ('ι', 'UNK'), ('α', 'UNK'), (' ', 'UNK'), ('τ', 'UNK'), ('η', 'UNK'), ('ν', 'UNK'), (' ', 'UNK'), ('π', 'UNK'), ('ο', 'UNK'), ('ρ', 'UNK'), ('ε', 'UNK'), ('ί', 'UNK'), ('α', 'UNK'), (' ', 'UNK'), ('τ', 'UNK'), ('ω', 'UNK'), ('ν', 'UNK'), (' ', 'UNK'), ('ε', 'UNK'), ('ξ', 'UNK'), ('α', 'UNK'), ('γ', 'UNK'), ('ω', 'UNK'), ('γ', 'UNK'), ('ώ', 'UNK'), ('ν', 'UNK'), (' ', 'UNK'), ('τ', 'UNK'), ('ο', 'UNK'), (' ', 'UNK'), ('2', 'UNK'), ('0', 'UNK'), ('1', 'UNK'), ('8', 'UNK'), ('.', 'UNK'), (' ', 'UNK'), ('Ο', 'UNK'), ('ι', 'UNK'), (' ', 'UNK'), ('ε', 'UNK'), ('ξ', 'UNK'), ('α', 'UNK'), ('γ', 'UNK'), ('ω', 'UNK'), ('γ', 'UNK'), ('έ', 'UNK'), ('ς', 'UNK'), (' ', 'UNK'), ('σ', 'UNK'), ('υ', 'UNK'), ('μ', 'UNK'), ('π', 'UNK'), ('ε', 'UNK'), ('ρ', 'UNK'), ('ι', 'UNK'), ('λ', 'UNK'), ('α', 'UNK'), ('μ', 'UNK'), ('β', 'UNK'), ('α', 'UNK'), ('ν', 'UNK'), ('ο', 'UNK'), ('μ', 'UNK'), ('έ', 'UNK'), ('ν', 'UNK'), ('ω', 'UNK'), ('ν', 'UNK'), (' ', 'UNK'), ('τ', 'UNK'), ('ω', 'UNK'), ('ν', 'UNK'), (' ', 'UNK'), ('π', 'UNK'), ('ε', 'UNK'), ('τ', 'UNK'), ('ρ', 'UNK'), ('ε', 'UNK'), ('λ', 'UNK'), ('α', 'UNK'), ('ι', 'UNK'), ('ο', 'UNK'), ('ε', 'UNK'), ('ι', 'UNK'), ('δ', 'UNK'), ('ώ', 'UNK'), ('ν', 'UNK'), (' ', 'UNK'), ('σ', 'UNK'), ('τ', 'UNK'), ('ο', 'UNK'), (' ', 'UNK'), ('σ', 'UNK'), ('ύ', 'UNK'), ('ν', 'UNK'), ('ο', 'UNK'), ('λ', 'UNK'), ('ο', 'UNK'), (' ', 'UNK'), ('τ', 'UNK'), ('ο', 'UNK'), ('υ', 'UNK'), (' ', 'UNK'), ('2', 'UNK'), ('0', 'UNK'), ('1', 'UNK'), ('7', 'UNK'), (',', 'UNK'), (' ', 'UNK'), ('δ', 'UNK'), ('η', 'UNK'), ('λ', 'UNK'), ('α', 'UNK'), ('δ', 'UNK'), ('ή', 'UNK'), (' ', 'UNK'), ('σ', 'UNK'), ('τ', 'UNK'), ('ο', 'UNK'), (' ', 'UNK'), ('δ', 'UNK'), ('ι', 'UNK'), ('ά', 'UNK'), ('σ', 'UNK'), ('τ', 'UNK'), ('η', 'UNK'), ('μ', 'UNK'), ('α', 'UNK'), (' ', 'UNK'), ('Ι', 'UNK'), ('α', 'UNK'), ('ν', 'UNK'), ('ο', 'UNK'), ('υ', 'UNK'), ('α', 'UNK'), ('ρ', 'UNK'), ('ί', 'UNK'), ('ο', 'UNK'), ('υ', 'UNK'), (' ', 'UNK'), ('-', 'UNK'), (' ', 'UNK'), ('Δ', 'UNK'), ('ε', 'UNK'), ('κ', 'UNK'), ('ε', 'UNK'), ('μ', 'UNK'), ('β', 'UNK'), ('ρ', 'UNK'), ('ί', 'UNK'), ('ο', 'UNK'), ('υ', 'UNK'), (' ', 'UNK'), ('2', 'UNK'), ('0', 'UNK'), ('1', 'UNK'), ('7', 'UNK'), (',', 'UNK'), (' ', 'UNK'), ('α', 'UNK'), ('υ', 'UNK'), ('ξ', 'UNK'), ('ή', 'UNK'), ('θ', 'UNK'), ('η', 'UNK'), ('κ', 'UNK'), ('α', 'UNK'), ('ν', 'UNK'), (' ', 'UNK'), ('κ', 'UNK'), ('α', 'UNK'), ('τ', 'UNK'), ('ά', 'UNK'), (' ', 'UNK'), ('1', 'UNK'), ('3', 'UNK'), (',', 'UNK'), ('2', 'UNK'), ('%', 'UNK'), (' ', 'UNK'), ('κ', 'UNK'), ('α', 'UNK'), ('ι', 'UNK'), (' ', 'UNK'), ('α', 'UNK'), ('ν', 'UNK'), ('ή', 'UNK'), ('λ', 'UNK'), ('θ', 'UNK'), ('α', 'UNK'), ('ν', 'UNK'), (' ', 'UNK'), ('σ', 'UNK'), ('τ', 'UNK'), ('α', 'UNK'), (' ', 'UNK'), ('2', 'UNK'), ('8', 'UNK'), (',', 'UNK'), ('4', 'UNK'), ('6', 'UNK'), (' ', 'UNK'), ('δ', 'UNK'), ('ι', 'UNK'), ('σ', 'UNK'), ('.', 'UNK'), (' ', 'UNK'), ('ε', 'UNK'), ('υ', 'UNK'), ('ρ', 'UNK'), ('ώ', 'UNK'), (' ', 'UNK'), ('α', 'UNK'), ('π', 'UNK'), ('ό', 'UNK'), (' ', 'UNK'), ('2', 'UNK'), ('5', 'UNK'), (',', 'UNK'), ('1', 'UNK'), ('5', 'UNK'), (' ', 'UNK'), ('δ', 'UNK'), ('ι', 'UNK'), ('σ', 'UNK'), ('.', 'UNK'), (' ', 'UNK'), ('ε', 'UNK'), ('υ', 'UNK'), ('ρ', 'UNK'), ('ώ', 'UNK'), ('.', 'UNK')]\n"
     ]
    }
   ],
   "source": [
    "print(tags)"
   ]
  },
  {
   "cell_type": "code",
   "execution_count": 10,
   "metadata": {},
   "outputs": [
    {
     "name": "stdout",
     "output_type": "stream",
     "text": [
      "NN: noun, common, singular or mass\n",
      "    common-carrier cabbage knuckle-duster Casino afghan shed thermostat\n",
      "    investment slide humour falloff slick wind hyena override subhumanity\n",
      "    machinist ...\n",
      "NNP: noun, proper, singular\n",
      "    Motown Venneboerger Czestochwa Ranzer Conchita Trumplane Christos\n",
      "    Oceanside Escobar Kreisler Sawyer Cougar Yvette Ervin ODI Darryl CTCA\n",
      "    Shannon A.K.C. Meltex Liverpool ...\n",
      "NNPS: noun, proper, plural\n",
      "    Americans Americas Amharas Amityvilles Amusements Anarcho-Syndicalists\n",
      "    Andalusians Andes Andruses Angels Animals Anthony Antilles Antiques\n",
      "    Apache Apaches Apocrypha ...\n",
      "NNS: noun, common, plural\n",
      "    undergraduates scotches bric-a-brac products bodyguards facets coasts\n",
      "    divestitures storehouses designs clubs fragrances averages\n",
      "    subjectivists apprehensions muses factory-jobs ...\n"
     ]
    }
   ],
   "source": [
    "nltk.help.upenn_tagset(\"NN*\")"
   ]
  },
  {
   "cell_type": "code",
   "execution_count": 11,
   "metadata": {},
   "outputs": [
    {
     "name": "stdout",
     "output_type": "stream",
     "text": [
      "[('Ενθαρρυντικά', 'UNK'), ('σημάδια', 'UNK'), ('για', 'UNK'), ('την', 'UNK'), ('πορεία', 'UNK'), ('των', 'UNK'), ('εξαγωγών', 'UNK'), ('το', 'UNK'), ('2018', 'UNK'), ('.', 'UNK'), ('Οι', 'UNK'), ('εξαγωγές', 'UNK'), ('συμπεριλαμβανομένων', 'UNK'), ('των', 'UNK'), ('πετρελαιοειδών', 'UNK'), ('στο', 'UNK'), ('σύνολο', 'UNK'), ('του', 'UNK'), ('2017', 'UNK'), (',', 'UNK'), ('δηλαδή', 'UNK'), ('στο', 'UNK'), ('διάστημα', 'UNK'), ('Ιανουαρίου', 'UNK'), ('-', 'UNK'), ('Δεκεμβρίου', 'UNK'), ('2017', 'UNK'), (',', 'UNK'), ('αυξήθηκαν', 'UNK'), ('κατά', 'UNK'), ('13,2', 'UNK'), ('%', 'UNK'), ('και', 'UNK'), ('ανήλθαν', 'UNK'), ('στα', 'UNK'), ('28,46', 'UNK'), ('δισ.', 'UNK'), ('ευρώ', 'UNK'), ('από', 'UNK'), ('25,15', 'UNK'), ('δισ.', 'UNK'), ('ευρώ', 'UNK'), ('.', 'UNK')]\n"
     ]
    }
   ],
   "source": [
    "tags = nltk.pos_tag(tokens, lang=\"eng\", tagset=\"brown\")\n",
    "print(tags)"
   ]
  },
  {
   "cell_type": "code",
   "execution_count": 12,
   "metadata": {},
   "outputs": [
    {
     "name": "stdout",
     "output_type": "stream",
     "text": [
      "UH: interjection\n",
      "    Goodbye Goody Gosh Wow Jeepers Jee-sus Hubba Hey Kee-reist Oops amen\n",
      "    huh howdy uh dammit whammo shucks heck anyways whodunnit honey golly\n",
      "    man baby diddle hush sonuvabitch ...\n"
     ]
    }
   ],
   "source": [
    "nltk.help.upenn_tagset(\"UN*\")"
   ]
  },
  {
   "cell_type": "code",
   "execution_count": 13,
   "metadata": {},
   "outputs": [
    {
     "name": "stdout",
     "output_type": "stream",
     "text": [
      "[('Ενθαρρυντικά', 'ADJ'), ('σημάδια', 'NOUN'), ('για', 'NOUN'), ('την', 'NOUN'), ('πορεία', 'NOUN'), ('των', 'NOUN'), ('εξαγωγών', 'NOUN'), ('το', 'NOUN'), ('2018', 'NUM'), ('.', '.'), ('Οι', 'VERB'), ('εξαγωγές', 'ADJ'), ('συμπεριλαμβανομένων', 'NOUN'), ('των', 'NOUN'), ('πετρελαιοειδών', 'NOUN'), ('στο', 'NOUN'), ('σύνολο', 'NOUN'), ('του', 'NOUN'), ('2017', 'NUM'), (',', '.'), ('δηλαδή', 'NOUN'), ('στο', 'NOUN'), ('διάστημα', 'NOUN'), ('Ιανουαρίου', 'NOUN'), ('-', '.'), ('Δεκεμβρίου', 'NOUN'), ('2017', 'NUM'), (',', '.'), ('αυξήθηκαν', 'NOUN'), ('κατά', 'VERB'), ('13,2', 'NUM'), ('%', 'NOUN'), ('και', 'ADJ'), ('ανήλθαν', 'NOUN'), ('στα', 'NOUN'), ('28,46', 'NUM'), ('δισ.', 'NOUN'), ('ευρώ', 'NOUN'), ('από', 'VERB'), ('25,15', 'NUM'), ('δισ.', 'ADJ'), ('ευρώ', 'NOUN'), ('.', '.')]\n"
     ]
    }
   ],
   "source": [
    "tags = nltk.pos_tag(tokens, lang=\"gre\", tagset='universal')\n",
    "print(tags)"
   ]
  },
  {
   "cell_type": "code",
   "execution_count": 14,
   "metadata": {},
   "outputs": [
    {
     "name": "stdout",
     "output_type": "stream",
     "text": [
      "[('Ενθαρρυντικά', 'UNK'), ('σημάδια', 'UNK'), ('για', 'UNK'), ('την', 'UNK'), ('πορεία', 'UNK'), ('των', 'UNK'), ('εξαγωγών', 'UNK'), ('το', 'UNK'), ('2018', 'UNK'), ('.', 'UNK'), ('Οι', 'UNK'), ('εξαγωγές', 'UNK'), ('συμπεριλαμβανομένων', 'UNK'), ('των', 'UNK'), ('πετρελαιοειδών', 'UNK'), ('στο', 'UNK'), ('σύνολο', 'UNK'), ('του', 'UNK'), ('2017', 'UNK'), (',', 'UNK'), ('δηλαδή', 'UNK'), ('στο', 'UNK'), ('διάστημα', 'UNK'), ('Ιανουαρίου', 'UNK'), ('-', 'UNK'), ('Δεκεμβρίου', 'UNK'), ('2017', 'UNK'), (',', 'UNK'), ('αυξήθηκαν', 'UNK'), ('κατά', 'UNK'), ('13,2', 'UNK'), ('%', 'UNK'), ('και', 'UNK'), ('ανήλθαν', 'UNK'), ('στα', 'UNK'), ('28,46', 'UNK'), ('δισ.', 'UNK'), ('ευρώ', 'UNK'), ('από', 'UNK'), ('25,15', 'UNK'), ('δισ.', 'UNK'), ('ευρώ', 'UNK'), ('.', 'UNK')]\n"
     ]
    }
   ],
   "source": [
    "tags = nltk.pos_tag(tokens, lang=\"gre\", tagset='wsj')\n",
    "print(tags)"
   ]
  },
  {
   "cell_type": "code",
   "execution_count": 15,
   "metadata": {},
   "outputs": [
    {
     "name": "stdout",
     "output_type": "stream",
     "text": [
      "[[('Ε', 'NOUN')], [('ν', 'NOUN')], [('θ', 'NOUN')], [('α', 'NOUN')], [('ρ', 'NOUN')], [('ρ', 'NOUN')], [('υ', 'NOUN')], [('ν', 'NOUN')], [('τ', 'NOUN')], [('ι', 'NOUN')], [('κ', 'NOUN')], [('ά', 'NOUN')], [(' ', 'NOUN')], [('σ', 'NOUN')], [('η', 'NOUN')], [('μ', 'NOUN')], [('ά', 'NOUN')], [('δ', 'NOUN')], [('ι', 'NOUN')], [('α', 'NOUN')], [(' ', 'NOUN')], [('γ', 'NOUN')], [('ι', 'NOUN')], [('α', 'NOUN')], [(' ', 'NOUN')], [('τ', 'NOUN')], [('η', 'NOUN')], [('ν', 'NOUN')], [(' ', 'NOUN')], [('π', 'NOUN')], [('ο', 'NOUN')], [('ρ', 'NOUN')], [('ε', 'NOUN')], [('ί', 'NOUN')], [('α', 'NOUN')], [(' ', 'NOUN')], [('τ', 'NOUN')], [('ω', 'NOUN')], [('ν', 'NOUN')], [(' ', 'NOUN')], [('ε', 'NOUN')], [('ξ', 'NOUN')], [('α', 'NOUN')], [('γ', 'NOUN')], [('ω', 'NOUN')], [('γ', 'NOUN')], [('ώ', 'NOUN')], [('ν', 'NOUN')], [(' ', 'NOUN')], [('τ', 'NOUN')], [('ο', 'NOUN')], [(' ', 'NOUN')], [('2', 'NUM')], [('0', 'NUM')], [('1', 'NUM')], [('8', 'NUM')], [('.', '.')], [(' ', 'NOUN')], [('Ο', 'NOUN')], [('ι', 'NOUN')], [(' ', 'NOUN')], [('ε', 'NOUN')], [('ξ', 'NOUN')], [('α', 'NOUN')], [('γ', 'NOUN')], [('ω', 'NOUN')], [('γ', 'NOUN')], [('έ', 'NOUN')], [('ς', 'NOUN')], [(' ', 'NOUN')], [('σ', 'NOUN')], [('υ', 'NOUN')], [('μ', 'NOUN')], [('π', 'NOUN')], [('ε', 'NOUN')], [('ρ', 'NOUN')], [('ι', 'NOUN')], [('λ', 'NOUN')], [('α', 'NOUN')], [('μ', 'NOUN')], [('β', 'NOUN')], [('α', 'NOUN')], [('ν', 'NOUN')], [('ο', 'NOUN')], [('μ', 'NOUN')], [('έ', 'NOUN')], [('ν', 'NOUN')], [('ω', 'NOUN')], [('ν', 'NOUN')], [(' ', 'NOUN')], [('τ', 'NOUN')], [('ω', 'NOUN')], [('ν', 'NOUN')], [(' ', 'NOUN')], [('π', 'NOUN')], [('ε', 'NOUN')], [('τ', 'NOUN')], [('ρ', 'NOUN')], [('ε', 'NOUN')], [('λ', 'NOUN')], [('α', 'NOUN')], [('ι', 'NOUN')], [('ο', 'NOUN')], [('ε', 'NOUN')], [('ι', 'NOUN')], [('δ', 'NOUN')], [('ώ', 'NOUN')], [('ν', 'NOUN')], [(' ', 'NOUN')], [('σ', 'NOUN')], [('τ', 'NOUN')], [('ο', 'NOUN')], [(' ', 'NOUN')], [('σ', 'NOUN')], [('ύ', 'NOUN')], [('ν', 'NOUN')], [('ο', 'NOUN')], [('λ', 'NOUN')], [('ο', 'NOUN')], [(' ', 'NOUN')], [('τ', 'NOUN')], [('ο', 'NOUN')], [('υ', 'NOUN')], [(' ', 'NOUN')], [('2', 'NUM')], [('0', 'NUM')], [('1', 'NUM')], [('7', 'NUM')], [(',', '.')], [(' ', 'NOUN')], [('δ', 'NOUN')], [('η', 'NOUN')], [('λ', 'NOUN')], [('α', 'NOUN')], [('δ', 'NOUN')], [('ή', 'NOUN')], [(' ', 'NOUN')], [('σ', 'NOUN')], [('τ', 'NOUN')], [('ο', 'NOUN')], [(' ', 'NOUN')], [('δ', 'NOUN')], [('ι', 'NOUN')], [('ά', 'NOUN')], [('σ', 'NOUN')], [('τ', 'NOUN')], [('η', 'NOUN')], [('μ', 'NOUN')], [('α', 'NOUN')], [(' ', 'NOUN')], [('Ι', 'NOUN')], [('α', 'NOUN')], [('ν', 'NOUN')], [('ο', 'NOUN')], [('υ', 'NOUN')], [('α', 'NOUN')], [('ρ', 'NOUN')], [('ί', 'NOUN')], [('ο', 'NOUN')], [('υ', 'NOUN')], [(' ', 'NOUN')], [('-', '.')], [(' ', 'NOUN')], [('Δ', 'NOUN')], [('ε', 'NOUN')], [('κ', 'NOUN')], [('ε', 'NOUN')], [('μ', 'NOUN')], [('β', 'NOUN')], [('ρ', 'NOUN')], [('ί', 'NOUN')], [('ο', 'NOUN')], [('υ', 'NOUN')], [(' ', 'NOUN')], [('2', 'NUM')], [('0', 'NUM')], [('1', 'NUM')], [('7', 'NUM')], [(',', '.')], [(' ', 'NOUN')], [('α', 'NOUN')], [('υ', 'NOUN')], [('ξ', 'NOUN')], [('ή', 'NOUN')], [('θ', 'NOUN')], [('η', 'NOUN')], [('κ', 'NOUN')], [('α', 'NOUN')], [('ν', 'NOUN')], [(' ', 'NOUN')], [('κ', 'NOUN')], [('α', 'NOUN')], [('τ', 'NOUN')], [('ά', 'NOUN')], [(' ', 'NOUN')], [('1', 'NUM')], [('3', 'NUM')], [(',', '.')], [('2', 'NUM')], [('%', 'NOUN')], [(' ', 'NOUN')], [('κ', 'NOUN')], [('α', 'NOUN')], [('ι', 'NOUN')], [(' ', 'NOUN')], [('α', 'NOUN')], [('ν', 'NOUN')], [('ή', 'NOUN')], [('λ', 'NOUN')], [('θ', 'NOUN')], [('α', 'NOUN')], [('ν', 'NOUN')], [(' ', 'NOUN')], [('σ', 'NOUN')], [('τ', 'NOUN')], [('α', 'NOUN')], [(' ', 'NOUN')], [('2', 'NUM')], [('8', 'NUM')], [(',', '.')], [('4', 'NUM')], [('6', 'NUM')], [(' ', 'NOUN')], [('δ', 'NOUN')], [('ι', 'NOUN')], [('σ', 'NOUN')], [('.', '.')], [(' ', 'NOUN')], [('ε', 'NOUN')], [('υ', 'NOUN')], [('ρ', 'NOUN')], [('ώ', 'NOUN')], [(' ', 'NOUN')], [('α', 'NOUN')], [('π', 'NOUN')], [('ό', 'NOUN')], [(' ', 'NOUN')], [('2', 'NUM')], [('5', 'NUM')], [(',', '.')], [('1', 'NUM')], [('5', 'NUM')], [(' ', 'NOUN')], [('δ', 'NOUN')], [('ι', 'NOUN')], [('σ', 'NOUN')], [('.', '.')], [(' ', 'NOUN')], [('ε', 'NOUN')], [('υ', 'NOUN')], [('ρ', 'NOUN')], [('ώ', 'NOUN')], [('.', '.')]]\n"
     ]
    }
   ],
   "source": [
    "tags = nltk.pos_tag_sents(text, lang=\"gre\", tagset='universal')\n",
    "print(tags)"
   ]
  },
  {
   "cell_type": "code",
   "execution_count": 16,
   "metadata": {},
   "outputs": [
    {
     "name": "stdout",
     "output_type": "stream",
     "text": [
      "[[('Ε', 'ADJ'), ('ν', 'NOUN'), ('θ', 'NOUN'), ('α', 'NOUN'), ('ρ', 'NOUN'), ('ρ', 'NOUN'), ('υ', 'NOUN'), ('ν', 'NOUN'), ('τ', 'NOUN'), ('ι', 'NOUN'), ('κ', 'NOUN'), ('ά', 'NOUN'), (' ', 'NOUN'), ('σ', 'NOUN'), ('η', 'NOUN'), ('μ', 'NOUN'), ('ά', 'NOUN'), ('δ', 'NOUN'), ('ι', 'NOUN'), ('α', 'NOUN'), (' ', 'NOUN'), ('γ', 'NOUN'), ('ι', 'NOUN'), ('α', 'NOUN'), (' ', 'NOUN'), ('τ', 'NOUN'), ('η', 'NOUN'), ('ν', 'NOUN'), (' ', 'NOUN'), ('π', 'NOUN'), ('ο', 'NOUN'), ('ρ', 'NOUN'), ('ε', 'NOUN'), ('ί', 'NOUN'), ('α', 'NOUN'), (' ', 'NOUN'), ('τ', 'NOUN'), ('ω', 'NOUN'), ('ν', 'NOUN'), (' ', 'NOUN'), ('ε', 'NOUN'), ('ξ', 'NOUN'), ('α', 'NOUN'), ('γ', 'NOUN'), ('ω', 'NOUN'), ('γ', 'NOUN'), ('ώ', 'NOUN'), ('ν', 'NOUN'), (' ', 'NOUN'), ('τ', 'NOUN'), ('ο', 'NOUN'), (' ', 'VERB'), ('2', 'NUM'), ('0', 'NUM'), ('1', 'NUM'), ('8', 'NUM'), ('.', '.')], [('Ο', 'ADJ'), ('ι', 'NOUN'), (' ', 'NOUN'), ('ε', 'NOUN'), ('ξ', 'NOUN'), ('α', 'NOUN'), ('γ', 'NOUN'), ('ω', 'NOUN'), ('γ', 'NOUN'), ('έ', 'NOUN'), ('ς', 'NOUN'), (' ', 'NOUN'), ('σ', 'NOUN'), ('υ', 'NOUN'), ('μ', 'NOUN'), ('π', 'NOUN'), ('ε', 'NOUN'), ('ρ', 'NOUN'), ('ι', 'NOUN'), ('λ', 'NOUN'), ('α', 'NOUN'), ('μ', 'NOUN'), ('β', 'NOUN'), ('α', 'NOUN'), ('ν', 'NOUN'), ('ο', 'NOUN'), ('μ', 'NOUN'), ('έ', 'NOUN'), ('ν', 'NOUN'), ('ω', 'NOUN'), ('ν', 'NOUN'), (' ', 'NOUN'), ('τ', 'NOUN'), ('ω', 'NOUN'), ('ν', 'NOUN'), (' ', 'NOUN'), ('π', 'NOUN'), ('ε', 'NOUN'), ('τ', 'NOUN'), ('ρ', 'NOUN'), ('ε', 'NOUN'), ('λ', 'NOUN'), ('α', 'NOUN'), ('ι', 'NOUN'), ('ο', 'NOUN'), ('ε', 'NOUN'), ('ι', 'NOUN'), ('δ', 'NOUN'), ('ώ', 'NOUN'), ('ν', 'NOUN'), (' ', 'NOUN'), ('σ', 'NOUN'), ('τ', 'NOUN'), ('ο', 'NOUN'), (' ', 'NOUN'), ('σ', 'NOUN'), ('ύ', 'NOUN'), ('ν', 'NOUN'), ('ο', 'NOUN'), ('λ', 'NOUN'), ('ο', 'NOUN'), (' ', 'NOUN'), ('τ', 'NOUN'), ('ο', 'NOUN'), ('υ', 'NOUN'), (' ', 'VERB'), ('2', 'NUM'), ('0', 'NUM'), ('1', 'NUM'), ('7', 'NUM'), (',', '.'), (' ', 'NOUN'), ('δ', 'NOUN'), ('η', 'NOUN'), ('λ', 'NOUN'), ('α', 'NOUN'), ('δ', 'NOUN'), ('ή', 'NOUN'), (' ', 'NOUN'), ('σ', 'NOUN'), ('τ', 'NOUN'), ('ο', 'NOUN'), (' ', 'NOUN'), ('δ', 'NOUN'), ('ι', 'NOUN'), ('ά', 'NOUN'), ('σ', 'NOUN'), ('τ', 'NOUN'), ('η', 'NOUN'), ('μ', 'NOUN'), ('α', 'NOUN'), (' ', 'NOUN'), ('Ι', 'NOUN'), ('α', 'NOUN'), ('ν', 'NOUN'), ('ο', 'NOUN'), ('υ', 'NOUN'), ('α', 'NOUN'), ('ρ', 'NOUN'), ('ί', 'NOUN'), ('ο', 'NOUN'), ('υ', 'NOUN'), (' ', 'NOUN'), ('-', '.'), (' ', 'NOUN'), ('Δ', 'ADJ'), ('ε', 'NOUN'), ('κ', 'NOUN'), ('ε', 'NOUN'), ('μ', 'NOUN'), ('β', 'NOUN'), ('ρ', 'NOUN'), ('ί', 'NOUN'), ('ο', 'NOUN'), ('υ', 'NOUN'), (' ', 'VERB'), ('2', 'NUM'), ('0', 'NUM'), ('1', 'NUM'), ('7', 'NUM'), (',', '.'), (' ', 'NOUN'), ('α', 'NOUN'), ('υ', 'NOUN'), ('ξ', 'NOUN'), ('ή', 'NOUN'), ('θ', 'NOUN'), ('η', 'NOUN'), ('κ', 'NOUN'), ('α', 'NOUN'), ('ν', 'NOUN'), (' ', 'NOUN'), ('κ', 'NOUN'), ('α', 'NOUN'), ('τ', 'NOUN'), ('ά', 'NOUN'), (' ', 'VERB'), ('1', 'NUM'), ('3', 'NUM'), (',', '.'), ('2', 'NUM'), ('%', 'NOUN'), (' ', 'ADJ'), ('κ', 'NOUN'), ('α', 'NOUN'), ('ι', 'NOUN'), (' ', 'NOUN'), ('α', 'NOUN'), ('ν', 'NOUN'), ('ή', 'NOUN'), ('λ', 'NOUN'), ('θ', 'NOUN'), ('α', 'NOUN'), ('ν', 'NOUN'), (' ', 'NOUN'), ('σ', 'NOUN'), ('τ', 'NOUN'), ('α', 'NOUN'), (' ', 'VERB'), ('2', 'NUM'), ('8', 'NUM'), (',', '.'), ('4', 'NUM'), ('6', 'NUM'), (' ', 'NOUN'), ('δ', 'NOUN'), ('ι', 'NOUN'), ('σ', 'NOUN'), ('.', '.'), (' ', 'VERB'), ('ε', 'ADJ'), ('υ', 'NOUN'), ('ρ', 'NOUN'), ('ώ', 'NOUN'), (' ', 'NOUN'), ('α', 'NOUN'), ('π', 'NOUN'), ('ό', 'NOUN'), (' ', 'VERB'), ('2', 'NUM'), ('5', 'NUM'), (',', '.'), ('1', 'NUM'), ('5', 'NUM'), (' ', 'NOUN'), ('δ', 'NOUN'), ('ι', 'NOUN'), ('σ', 'NOUN'), ('.', '.'), (' ', 'VERB'), ('ε', 'ADJ'), ('υ', 'NOUN'), ('ρ', 'NOUN'), ('ώ', 'NOUN'), ('.', '.')]]\n"
     ]
    }
   ],
   "source": [
    "tags = nltk.pos_tag_sents(sent_tokenize_list, lang=\"gre\", tagset='universal')\n",
    "print(tags)"
   ]
  },
  {
   "cell_type": "markdown",
   "metadata": {},
   "source": [
    "## Stemming"
   ]
  },
  {
   "cell_type": "code",
   "execution_count": 17,
   "metadata": {},
   "outputs": [
    {
     "data": {
      "text/plain": [
       "'maximum'"
      ]
     },
     "execution_count": 17,
     "metadata": {},
     "output_type": "execute_result"
    }
   ],
   "source": [
    "from nltk.stem.porter import PorterStemmer\n",
    "porter_stemmer = PorterStemmer()\n",
    "porter_stemmer.stem(\"maximum\")"
   ]
  },
  {
   "cell_type": "code",
   "execution_count": 18,
   "metadata": {},
   "outputs": [
    {
     "data": {
      "text/plain": [
       "'fox'"
      ]
     },
     "execution_count": 18,
     "metadata": {},
     "output_type": "execute_result"
    }
   ],
   "source": [
    "porter_stemmer.stem(\"foxes\")"
   ]
  },
  {
   "cell_type": "code",
   "execution_count": 19,
   "metadata": {},
   "outputs": [
    {
     "data": {
      "text/plain": [
       "'european'"
      ]
     },
     "execution_count": 19,
     "metadata": {},
     "output_type": "execute_result"
    }
   ],
   "source": [
    "porter_stemmer.stem(\"European\")"
   ]
  },
  {
   "cell_type": "code",
   "execution_count": 20,
   "metadata": {},
   "outputs": [
    {
     "data": {
      "text/plain": [
       "'europ'"
      ]
     },
     "execution_count": 20,
     "metadata": {},
     "output_type": "execute_result"
    }
   ],
   "source": [
    "porter_stemmer.stem(\"Europe\")"
   ]
  },
  {
   "cell_type": "code",
   "execution_count": 21,
   "metadata": {},
   "outputs": [
    {
     "data": {
      "text/plain": [
       "'maxim'"
      ]
     },
     "execution_count": 21,
     "metadata": {},
     "output_type": "execute_result"
    }
   ],
   "source": [
    "from nltk.stem.lancaster import LancasterStemmer\n",
    "lancaster_stemmer = LancasterStemmer()\n",
    "lancaster_stemmer.stem(\"maximum\")"
   ]
  },
  {
   "cell_type": "code",
   "execution_count": 22,
   "metadata": {},
   "outputs": [
    {
     "data": {
      "text/plain": [
       "'fox'"
      ]
     },
     "execution_count": 22,
     "metadata": {},
     "output_type": "execute_result"
    }
   ],
   "source": [
    "lancaster_stemmer.stem(\"foxes\")"
   ]
  },
  {
   "cell_type": "code",
   "execution_count": 23,
   "metadata": {},
   "outputs": [
    {
     "data": {
      "text/plain": [
       "'europ'"
      ]
     },
     "execution_count": 23,
     "metadata": {},
     "output_type": "execute_result"
    }
   ],
   "source": [
    "lancaster_stemmer.stem(\"European\")"
   ]
  },
  {
   "cell_type": "code",
   "execution_count": 24,
   "metadata": {},
   "outputs": [
    {
     "data": {
      "text/plain": [
       "'europ'"
      ]
     },
     "execution_count": 24,
     "metadata": {},
     "output_type": "execute_result"
    }
   ],
   "source": [
    "lancaster_stemmer.stem(\"Europe\")"
   ]
  },
  {
   "cell_type": "code",
   "execution_count": null,
   "metadata": {
    "collapsed": true
   },
   "outputs": [],
   "source": []
  }
 ],
 "metadata": {
  "kernelspec": {
   "display_name": "Python 3",
   "language": "python",
   "name": "python3"
  },
  "language_info": {
   "codemirror_mode": {
    "name": "ipython",
    "version": 3
   },
   "file_extension": ".py",
   "mimetype": "text/x-python",
   "name": "python",
   "nbconvert_exporter": "python",
   "pygments_lexer": "ipython3",
   "version": "3.6.4"
  }
 },
 "nbformat": 4,
 "nbformat_minor": 2
}
