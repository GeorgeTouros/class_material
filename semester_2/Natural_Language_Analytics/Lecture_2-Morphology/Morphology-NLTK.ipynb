{
 "cells": [
  {
   "cell_type": "markdown",
   "metadata": {},
   "source": [
    "This notebook shows some examples on using NLTK for various tasks related to morphology"
   ]
  },
  {
   "cell_type": "code",
   "execution_count": 11,
   "metadata": {},
   "outputs": [],
   "source": [
    "import nltk\n",
    "# nltk.download()\n",
    "import nltk.data"
   ]
  },
  {
   "cell_type": "markdown",
   "metadata": {},
   "source": [
    "## Download a sample corpus\n",
    "\n",
    "We are going to retrieve a small corpus from the internet, like an RSS Feed."
   ]
  },
  {
   "cell_type": "code",
   "execution_count": 12,
   "metadata": {},
   "outputs": [
    {
     "data": {
      "text/plain": [
       "u'\\u03a1\\u03bf\\u03ae \\u0395\\u03b9\\u03b4\\u03ae\\u03c3\\u03b5\\u03c9\\u03bd'"
      ]
     },
     "execution_count": 12,
     "metadata": {},
     "output_type": "execute_result"
    }
   ],
   "source": [
    "import feedparser\n",
    "llog = feedparser.parse(\"http://avgi.gr/newsstream/-/asset_publisher/CATEGORY/rss?p_p_cacheability=cacheLevelFull\")\n",
    "llog['feed']['title']"
   ]
  },
  {
   "cell_type": "code",
   "execution_count": 13,
   "metadata": {},
   "outputs": [
    {
     "data": {
      "text/plain": [
       "20"
      ]
     },
     "execution_count": 13,
     "metadata": {},
     "output_type": "execute_result"
    }
   ],
   "source": [
    "# How many news items?\n",
    "len(llog.entries)"
   ]
  },
  {
   "cell_type": "code",
   "execution_count": 14,
   "metadata": {},
   "outputs": [
    {
     "name": "stdout",
     "output_type": "stream",
     "text": [
      "{'updated': u'2018-02-27T13:13:00Z', 'published_parsed': time.struct_time(tm_year=2018, tm_mon=2, tm_mday=27, tm_hour=13, tm_min=13, tm_sec=0, tm_wday=1, tm_yday=58, tm_isdst=0), 'updated_parsed': time.struct_time(tm_year=2018, tm_mon=2, tm_mday=27, tm_hour=13, tm_min=13, tm_sec=0, tm_wday=1, tm_yday=58, tm_isdst=0), 'links': [{'href': u'http://avgi.gr/article/10842/8735666', 'type': u'text/html', 'rel': u'alternate'}], 'title': u'\\u03a3\\u03c4. \\u039a\\u03bf\\u03bd\\u03c4\\u03bf\\u03bd\\u03ae\\u03c2 \\u03b3\\u03b9\\u03b1 Novartis: \\u039f\\u03b9 \\u03c0\\u03bf\\u03bb\\u03b9\\u03c4\\u03b9\\u03ba\\u03ad\\u03c2 \\u03b5\\u03c5\\u03b8\\u03cd\\u03bd\\u03b5\\u03c2 \\u03b5\\u03af\\u03bd\\u03b1\\u03b9 \\u03ba\\u03b1\\u03c4\\u03b1\\u03c6\\u03b1\\u03bd\\u03b5\\u03af\\u03c2', 'author': u'', 'summary_detail': {'base': u'http://avgi.gr/newsstream/-/asset_publisher/CATEGORY/rss?p_p_cacheability=cacheLevelFull', 'type': u'text/html', 'value': u'\\xab\\u0394\\u03b5\\u03bd \\u03bd\\u03bf\\u03bc\\u03af\\u03b6\\u03c9 \\u03cc\\u03c4\\u03b9 \\u03bc\\u03c0\\u03bf\\u03c1\\u03b5\\u03af \\u03ba\\u03ac\\u03c0\\u03bf\\u03b9\\u03bf\\u03c2 \\u03b1\\u03c0\\u03cc \\u03b5\\u03ba\\u03b5\\u03af\\u03bd\\u03bf\\u03c5\\u03c2 \\u03c0\\u03bf\\u03c5 \\u03b4\\u03b9\\u03bf\\u03af\\u03ba\\u03b7\\u03c3\\u03b1\\u03bd \\u03c4\\u03bf \\u03c5\\u03c0\\u03bf\\u03c5\\u03c1\\u03b3\\u03b5\\u03af\\u03bf \\u03a5\\u03b3\\u03b5\\u03af\\u03b1\\u03c2 \\u03c4\\u03b1 \\u03c0\\u03c1\\u03bf\\u03b7\\u03b3\\u03bf\\u03cd\\u03bc\\u03b5\\u03bd\\u03b1 \\u03c7\\u03c1\\u03cc\\u03bd\\u03b9\\u03b1, \\u03bd\\u03b1 \\u03b4\\u03b9\\u03b1\\u03c6\\u03cd\\u03b3\\u03b5\\u03b9 \\u03c4\\u03c9\\u03bd \\u03c0\\u03bf\\u03bb\\u03b9\\u03c4\\u03b9\\u03ba\\u03ce\\u03bd \\u03b5\\u03c5\\u03b8\\u03c5\\u03bd\\u03ce\\u03bd - \\u03a3\\u03c4\\u03b7\\u03bd \\u03b5\\u03be\\u03ad\\u03bb\\u03b9\\u03be\\u03b7 \\u03c4\\u03b7\\u03c2 \\u03ad\\u03c1\\u03b5\\u03c5\\u03bd\\u03b1\\u03c2 \\u03bc\\u03c0\\u03bf\\u03c1\\u03b5\\u03af \\u03bd\\u03b1 \\u03c0\\u03c1\\u03bf\\u03ba\\u03cd\\u03c8\\u03bf\\u03c5\\u03bd \\u03ba\\u03b1\\u03b9 \\u03ac\\u03bb\\u03bb\\u03b1 \\u03c3\\u03c4\\u03bf\\u03b9\\u03c7\\u03b5\\u03af\\u03b1\\xbb', 'language': None}, 'summary': u'\\xab\\u0394\\u03b5\\u03bd \\u03bd\\u03bf\\u03bc\\u03af\\u03b6\\u03c9 \\u03cc\\u03c4\\u03b9 \\u03bc\\u03c0\\u03bf\\u03c1\\u03b5\\u03af \\u03ba\\u03ac\\u03c0\\u03bf\\u03b9\\u03bf\\u03c2 \\u03b1\\u03c0\\u03cc \\u03b5\\u03ba\\u03b5\\u03af\\u03bd\\u03bf\\u03c5\\u03c2 \\u03c0\\u03bf\\u03c5 \\u03b4\\u03b9\\u03bf\\u03af\\u03ba\\u03b7\\u03c3\\u03b1\\u03bd \\u03c4\\u03bf \\u03c5\\u03c0\\u03bf\\u03c5\\u03c1\\u03b3\\u03b5\\u03af\\u03bf \\u03a5\\u03b3\\u03b5\\u03af\\u03b1\\u03c2 \\u03c4\\u03b1 \\u03c0\\u03c1\\u03bf\\u03b7\\u03b3\\u03bf\\u03cd\\u03bc\\u03b5\\u03bd\\u03b1 \\u03c7\\u03c1\\u03cc\\u03bd\\u03b9\\u03b1, \\u03bd\\u03b1 \\u03b4\\u03b9\\u03b1\\u03c6\\u03cd\\u03b3\\u03b5\\u03b9 \\u03c4\\u03c9\\u03bd \\u03c0\\u03bf\\u03bb\\u03b9\\u03c4\\u03b9\\u03ba\\u03ce\\u03bd \\u03b5\\u03c5\\u03b8\\u03c5\\u03bd\\u03ce\\u03bd - \\u03a3\\u03c4\\u03b7\\u03bd \\u03b5\\u03be\\u03ad\\u03bb\\u03b9\\u03be\\u03b7 \\u03c4\\u03b7\\u03c2 \\u03ad\\u03c1\\u03b5\\u03c5\\u03bd\\u03b1\\u03c2 \\u03bc\\u03c0\\u03bf\\u03c1\\u03b5\\u03af \\u03bd\\u03b1 \\u03c0\\u03c1\\u03bf\\u03ba\\u03cd\\u03c8\\u03bf\\u03c5\\u03bd \\u03ba\\u03b1\\u03b9 \\u03ac\\u03bb\\u03bb\\u03b1 \\u03c3\\u03c4\\u03bf\\u03b9\\u03c7\\u03b5\\u03af\\u03b1\\xbb', 'guidislink': False, 'title_detail': {'base': u'http://avgi.gr/newsstream/-/asset_publisher/CATEGORY/rss?p_p_cacheability=cacheLevelFull', 'type': u'text/plain', 'value': u'\\u03a3\\u03c4. \\u039a\\u03bf\\u03bd\\u03c4\\u03bf\\u03bd\\u03ae\\u03c2 \\u03b3\\u03b9\\u03b1 Novartis: \\u039f\\u03b9 \\u03c0\\u03bf\\u03bb\\u03b9\\u03c4\\u03b9\\u03ba\\u03ad\\u03c2 \\u03b5\\u03c5\\u03b8\\u03cd\\u03bd\\u03b5\\u03c2 \\u03b5\\u03af\\u03bd\\u03b1\\u03b9 \\u03ba\\u03b1\\u03c4\\u03b1\\u03c6\\u03b1\\u03bd\\u03b5\\u03af\\u03c2', 'language': None}, 'link': u'http://avgi.gr/article/10842/8735666', 'authors': [{'name': u''}], 'author_detail': {'name': u''}, 'id': u'http://avgi.gr/article/10842/8735666', 'published': u'2018-02-27T13:13:00Z'}\n",
      "Στ. Κοντονής για Novartis: Οι πολιτικές ευθύνες είναι καταφανείς\n",
      "«Δεν νομίζω ότι μπορεί κάποιος από εκείνους που διοίκησαν το υπουργείο Υγείας τα προηγούμενα χρόνια, να διαφύγει των πολιτικών ευθυνών - Στην εξέλιξη της έρευνας μπορεί να προκύψουν και άλλα στοιχεία»\n"
     ]
    }
   ],
   "source": [
    "# Select a news item:\n",
    "item = llog.entries[2]\n",
    "title = item.title\n",
    "summary = item.summary\n",
    "print(item)\n",
    "print(title)\n",
    "print(summary)"
   ]
  },
  {
   "cell_type": "code",
   "execution_count": null,
   "metadata": {
    "collapsed": true
   },
   "outputs": [],
   "source": []
  },
  {
   "cell_type": "markdown",
   "metadata": {},
   "source": [
    "## Tokenisation"
   ]
  },
  {
   "cell_type": "code",
   "execution_count": 15,
   "metadata": {},
   "outputs": [
    {
     "name": "stdout",
     "output_type": "stream",
     "text": [
      "Στ. Κοντονής για Novartis: Οι πολιτικές ευθύνες είναι καταφανείς. «Δεν νομίζω ότι μπορεί κάποιος από εκείνους που διοίκησαν το υπουργείο Υγείας τα προηγούμενα χρόνια, να διαφύγει των πολιτικών ευθυνών - Στην εξέλιξη της έρευνας μπορεί να προκύψουν και άλλα στοιχεία».\n"
     ]
    }
   ],
   "source": [
    "text = title + \". \" + summary + \".\"\n",
    "print(text)"
   ]
  },
  {
   "cell_type": "code",
   "execution_count": 16,
   "metadata": {},
   "outputs": [
    {
     "ename": "SyntaxError",
     "evalue": "invalid syntax (<ipython-input-16-fa1d4e87f253>, line 4)",
     "output_type": "error",
     "traceback": [
      "\u001b[0;36m  File \u001b[0;32m\"<ipython-input-16-fa1d4e87f253>\"\u001b[0;36m, line \u001b[0;32m4\u001b[0m\n\u001b[0;31m    tokenizer = nltk.data.load(\"tokenizers/punkt/english.pickle\")\u001b[0m\n\u001b[0m                               ^\u001b[0m\n\u001b[0;31mSyntaxError\u001b[0m\u001b[0;31m:\u001b[0m invalid syntax\n"
     ]
    }
   ],
   "source": [
    "from nltk.tokenize import word_tokenize\n",
    "# word_tokenize(text)\n",
    "\n",
    "tokenizer = nltk.data.load(\"tokenizers/punkt/english.pickle\")\n",
    "\n",
    "#tokeniser.tokenize(text)"
   ]
  },
  {
   "cell_type": "code",
   "execution_count": null,
   "metadata": {
    "collapsed": true
   },
   "outputs": [],
   "source": []
  }
 ],
 "metadata": {
  "kernelspec": {
   "display_name": "Python 2",
   "language": "python",
   "name": "python2"
  },
  "language_info": {
   "codemirror_mode": {
    "name": "ipython",
    "version": 2
   },
   "file_extension": ".py",
   "mimetype": "text/x-python",
   "name": "python",
   "nbconvert_exporter": "python",
   "pygments_lexer": "ipython2",
   "version": "2.7.14"
  }
 },
 "nbformat": 4,
 "nbformat_minor": 2
}
